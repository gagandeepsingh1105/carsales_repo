{
 "cells": [
  {
   "cell_type": "code",
   "execution_count": 0,
   "metadata": {
    "application/vnd.databricks.v1+cell": {
     "cellMetadata": {
      "byteLimit": 2048000,
      "rowLimit": 10000
     },
     "inputWidgets": {},
     "nuid": "573e86d2-39cf-4950-a0d0-ee82e73448e7",
     "showTitle": false,
     "tableResultSettingsMap": {},
     "title": ""
    }
   },
   "outputs": [],
   "source": [
    "dbutils.widgets.text('load_type','F')\n",
    "load = dbutils.widgets.get('load_type')"
   ]
  },
  {
   "cell_type": "markdown",
   "metadata": {
    "application/vnd.databricks.v1+cell": {
     "cellMetadata": {
      "byteLimit": 2048000,
      "rowLimit": 10000
     },
     "inputWidgets": {},
     "nuid": "4b3ea9d0-2640-48d7-ac93-cdd882db8665",
     "showTitle": false,
     "tableResultSettingsMap": {},
     "title": ""
    }
   },
   "source": [
    "##Creating temp view on silver data"
   ]
  },
  {
   "cell_type": "code",
   "execution_count": 0,
   "metadata": {
    "application/vnd.databricks.v1+cell": {
     "cellMetadata": {
      "byteLimit": 2048000,
      "rowLimit": 10000
     },
     "inputWidgets": {},
     "nuid": "79c17aac-522b-4433-87e7-f19d54237cd4",
     "showTitle": false,
     "tableResultSettingsMap": {},
     "title": ""
    }
   },
   "outputs": [],
   "source": [
    "df_silver = spark.read.format('parquet')\\\n",
    "                .option('inferSchema',True)\\\n",
    "                    .load('abfss://silver@carsalesdeltalake.dfs.core.windows.net/carsales/')"
   ]
  },
  {
   "cell_type": "code",
   "execution_count": 0,
   "metadata": {
    "application/vnd.databricks.v1+cell": {
     "cellMetadata": {
      "byteLimit": 2048000,
      "rowLimit": 10000
     },
     "inputWidgets": {},
     "nuid": "d82b44ff-6b42-4836-a8ec-6c200dc6d9e9",
     "showTitle": false,
     "tableResultSettingsMap": {},
     "title": ""
    }
   },
   "outputs": [],
   "source": [
    "df_silver.createOrReplaceTempView('silver_view')"
   ]
  },
  {
   "cell_type": "code",
   "execution_count": 0,
   "metadata": {
    "application/vnd.databricks.v1+cell": {
     "cellMetadata": {
      "byteLimit": 2048000,
      "implicitDf": true,
      "rowLimit": 10000
     },
     "inputWidgets": {},
     "nuid": "8cd77b92-4938-49a3-8752-cd4b804ac087",
     "showTitle": false,
     "tableResultSettingsMap": {},
     "title": ""
    }
   },
   "outputs": [],
   "source": [
    "%sql\n",
    "select * from silver_view;"
   ]
  },
  {
   "cell_type": "markdown",
   "metadata": {
    "application/vnd.databricks.v1+cell": {
     "cellMetadata": {
      "byteLimit": 2048000,
      "rowLimit": 10000
     },
     "inputWidgets": {},
     "nuid": "b8264883-9367-47f8-a449-938d3a15f6c7",
     "showTitle": false,
     "tableResultSettingsMap": {},
     "title": ""
    }
   },
   "source": [
    "##Creating dim_model (SCD Type1) table during initial load"
   ]
  },
  {
   "cell_type": "code",
   "execution_count": 0,
   "metadata": {
    "application/vnd.databricks.v1+cell": {
     "cellMetadata": {
      "byteLimit": 2048000,
      "rowLimit": 10000
     },
     "inputWidgets": {},
     "nuid": "f32fa39c-5b1c-46a4-b7c9-28bf6af86bb3",
     "showTitle": false,
     "tableResultSettingsMap": {},
     "title": ""
    }
   },
   "outputs": [],
   "source": [
    "from pyspark.sql.functions import *\n",
    "from pyspark.sql.types import *"
   ]
  },
  {
   "cell_type": "code",
   "execution_count": 0,
   "metadata": {
    "application/vnd.databricks.v1+cell": {
     "cellMetadata": {
      "byteLimit": 2048000,
      "implicitDf": true,
      "rowLimit": 10000
     },
     "inputWidgets": {},
     "nuid": "18a1cce1-297c-4d5c-84be-4f06262c5f36",
     "showTitle": false,
     "tableResultSettingsMap": {},
     "title": ""
    }
   },
   "outputs": [],
   "source": [
    "\n",
    "if load == 'F':\n",
    "    spark.sql('''create table carsales_catalog.gold.dim_model (\n",
    "        Model_key bigint generated always as identity (start with 100000 increment by 1) not null primary key, \n",
    "        Model_ID string,\n",
    "        Product_Name string\n",
    "    )\n",
    "    using DELTA\n",
    "    LOCATION 'abfss://gold@carsalesdeltalake.dfs.core.windows.net/model'\n",
    "    ''')"
   ]
  },
  {
   "cell_type": "markdown",
   "metadata": {
    "application/vnd.databricks.v1+cell": {
     "cellMetadata": {
      "byteLimit": 2048000,
      "rowLimit": 10000
     },
     "inputWidgets": {},
     "nuid": "8aba16b9-c456-4138-9848-778a350ad830",
     "showTitle": false,
     "tableResultSettingsMap": {},
     "title": ""
    }
   },
   "source": [
    "##Merging source data in dim_model"
   ]
  },
  {
   "cell_type": "code",
   "execution_count": 0,
   "metadata": {
    "application/vnd.databricks.v1+cell": {
     "cellMetadata": {
      "byteLimit": 2048000,
      "implicitDf": true,
      "rowLimit": 10000
     },
     "inputWidgets": {},
     "nuid": "36b617e4-2974-4ef6-b17e-921c57dc57f5",
     "showTitle": false,
     "tableResultSettingsMap": {},
     "title": ""
    }
   },
   "outputs": [],
   "source": [
    "%sql\n",
    "merge into carsales_catalog.gold.dim_model as tgt\n",
    "using (select distinct Model_ID,Product_Name from silver_view) as src \n",
    "on tgt.Model_ID = src.Model_ID\n",
    "when matched and src.PRODUCT_NAME <> tgt.Product_Name then\n",
    "update set tgt.Product_Name = src.Product_Name\n",
    "when not matched then\n",
    "insert (Model_ID,Product_Name) values (src.Model_ID,src.Product_Name)\n"
   ]
  },
  {
   "cell_type": "markdown",
   "metadata": {
    "application/vnd.databricks.v1+cell": {
     "cellMetadata": {
      "byteLimit": 2048000,
      "rowLimit": 10000
     },
     "inputWidgets": {},
     "nuid": "c8cb27b5-0362-41c2-b14f-7dec27136912",
     "showTitle": false,
     "tableResultSettingsMap": {},
     "title": ""
    }
   },
   "source": [
    "##Creating dim_branch  (SCD Type1) table during initial load"
   ]
  },
  {
   "cell_type": "code",
   "execution_count": 0,
   "metadata": {
    "application/vnd.databricks.v1+cell": {
     "cellMetadata": {
      "byteLimit": 2048000,
      "rowLimit": 10000
     },
     "inputWidgets": {},
     "nuid": "b3b0a442-31e4-4ddb-90d3-da54a3ac569c",
     "showTitle": false,
     "tableResultSettingsMap": {},
     "title": ""
    }
   },
   "outputs": [],
   "source": [
    "if load=='F':\n",
    "    spark.sql(''' create table carsales_catalog.gold.dim_branch (\n",
    "        Branch_key bigint generated always as identity (start with 200000 increment by 1) not null primary key,\n",
    "        Branch_ID string,\n",
    "        BranchName string )\n",
    "        using DELTA\n",
    "        location 'abfss://gold@carsalesdeltalake.dfs.core.windows.net/branch'\n",
    "        ''')"
   ]
  },
  {
   "cell_type": "markdown",
   "metadata": {
    "application/vnd.databricks.v1+cell": {
     "cellMetadata": {
      "byteLimit": 2048000,
      "rowLimit": 10000
     },
     "inputWidgets": {},
     "nuid": "d4218fa1-c963-4279-815e-f056a0bdddbc",
     "showTitle": false,
     "tableResultSettingsMap": {},
     "title": ""
    }
   },
   "source": [
    "##Merging source data in dim_branch"
   ]
  },
  {
   "cell_type": "code",
   "execution_count": 0,
   "metadata": {
    "application/vnd.databricks.v1+cell": {
     "cellMetadata": {
      "byteLimit": 2048000,
      "implicitDf": true,
      "rowLimit": 10000
     },
     "inputWidgets": {},
     "nuid": "5ee64f86-b895-4ba1-a9e5-3e9d210db821",
     "showTitle": false,
     "tableResultSettingsMap": {},
     "title": ""
    }
   },
   "outputs": [],
   "source": [
    "%sql\n",
    "merge into carsales_catalog.gold.dim_branch as tgt\n",
    "using (select distinct Branch_ID,BranchName from silver_view) as src\n",
    "on src.Branch_ID=tgt.Branch_ID\n",
    "when matched and src.BranchName <> tgt.BranchName then\n",
    "update set tgt.BranchName=src.BranchName\n",
    "when not matched then\n",
    "insert(Branch_ID,BranchName) values (src.Branch_ID,src.BranchName)"
   ]
  },
  {
   "cell_type": "code",
   "execution_count": 0,
   "metadata": {
    "application/vnd.databricks.v1+cell": {
     "cellMetadata": {
      "byteLimit": 2048000,
      "implicitDf": true,
      "rowLimit": 10000
     },
     "inputWidgets": {},
     "nuid": "24c2e481-2fe3-4e18-b33e-eb027a82635a",
     "showTitle": false,
     "tableResultSettingsMap": {},
     "title": ""
    }
   },
   "outputs": [],
   "source": [
    "%sql\n",
    "select * from carsales_catalog.gold.dim_branch;"
   ]
  },
  {
   "cell_type": "markdown",
   "metadata": {
    "application/vnd.databricks.v1+cell": {
     "cellMetadata": {
      "byteLimit": 2048000,
      "rowLimit": 10000
     },
     "inputWidgets": {},
     "nuid": "1d00e00c-a6a7-402d-beba-b8b0de942766",
     "showTitle": false,
     "tableResultSettingsMap": {},
     "title": ""
    }
   },
   "source": [
    "##Creating dim_dealer  (SCD Type1) table during initial load"
   ]
  },
  {
   "cell_type": "code",
   "execution_count": 0,
   "metadata": {
    "application/vnd.databricks.v1+cell": {
     "cellMetadata": {
      "byteLimit": 2048000,
      "implicitDf": true,
      "rowLimit": 10000
     },
     "inputWidgets": {},
     "nuid": "1008a6b6-86da-42a0-b831-a27572c559a6",
     "showTitle": false,
     "tableResultSettingsMap": {},
     "title": ""
    }
   },
   "outputs": [],
   "source": [
    "if load=='F':\n",
    "    spark.sql(''' create table carsales_catalog.gold.dim_dealer (\n",
    "        Dealer_key bigint generated always as identity (start with 300000 increment by 1) not null primary key,\n",
    "        Dealer_ID string,\n",
    "        DealerName string )\n",
    "        using DELTA\n",
    "        location 'abfss://gold@carsalesdeltalake.dfs.core.windows.net/dealer'\n",
    "        ''')"
   ]
  },
  {
   "cell_type": "markdown",
   "metadata": {
    "application/vnd.databricks.v1+cell": {
     "cellMetadata": {
      "byteLimit": 2048000,
      "rowLimit": 10000
     },
     "inputWidgets": {},
     "nuid": "b328e7ce-2df3-49c8-8c22-ddfba54603c5",
     "showTitle": false,
     "tableResultSettingsMap": {},
     "title": ""
    }
   },
   "source": [
    "##Merging source data in dim_dealer"
   ]
  },
  {
   "cell_type": "code",
   "execution_count": 0,
   "metadata": {
    "application/vnd.databricks.v1+cell": {
     "cellMetadata": {
      "byteLimit": 2048000,
      "implicitDf": true,
      "rowLimit": 10000
     },
     "inputWidgets": {},
     "nuid": "4cbabf26-1cc8-4084-a510-0b0b68fae72d",
     "showTitle": false,
     "tableResultSettingsMap": {},
     "title": ""
    }
   },
   "outputs": [],
   "source": [
    "%sql\n",
    "merge into carsales_catalog.gold.dim_dealer as tgt\n",
    "using (select distinct Dealer_ID,DealerName from silver_view) as src\n",
    "on src.Dealer_ID=tgt.Dealer_ID\n",
    "when matched and src.DealerName <> tgt.DealerName then\n",
    "update set tgt.DealerName=src.DealerName\n",
    "when not matched then\n",
    "insert(Dealer_ID,DealerName) values (src.Dealer_ID,src.DealerName)"
   ]
  },
  {
   "cell_type": "markdown",
   "metadata": {
    "application/vnd.databricks.v1+cell": {
     "cellMetadata": {
      "byteLimit": 2048000,
      "rowLimit": 10000
     },
     "inputWidgets": {},
     "nuid": "ce1acffa-d4ac-447d-91bc-07c394f11e26",
     "showTitle": false,
     "tableResultSettingsMap": {},
     "title": ""
    }
   },
   "source": [
    "##Creating dim_date  (SCD Type1) table during initial load"
   ]
  },
  {
   "cell_type": "code",
   "execution_count": 0,
   "metadata": {
    "application/vnd.databricks.v1+cell": {
     "cellMetadata": {
      "byteLimit": 2048000,
      "rowLimit": 10000
     },
     "inputWidgets": {},
     "nuid": "dde849a0-e4a2-4624-9e66-99def88cf975",
     "showTitle": false,
     "tableResultSettingsMap": {},
     "title": ""
    }
   },
   "outputs": [],
   "source": [
    "if load=='F':\n",
    "    spark.sql(''' create table carsales_catalog.gold.dim_date (\n",
    "        Date_key bigint generated always as identity (start with 400000 increment by 1) not null primary key,\n",
    "        Day integer,\n",
    "        Month integer,\n",
    "        Year integer,\n",
    "        Date_of_Sale date)\n",
    "        using DELTA\n",
    "        location 'abfss://gold@carsalesdeltalake.dfs.core.windows.net/date'\n",
    "        ''')"
   ]
  },
  {
   "cell_type": "markdown",
   "metadata": {
    "application/vnd.databricks.v1+cell": {
     "cellMetadata": {
      "byteLimit": 2048000,
      "rowLimit": 10000
     },
     "inputWidgets": {},
     "nuid": "0aad74e7-23f2-46b0-9c7c-01c657e62893",
     "showTitle": false,
     "tableResultSettingsMap": {},
     "title": ""
    }
   },
   "source": [
    "##Merging source data in dim_date"
   ]
  },
  {
   "cell_type": "code",
   "execution_count": 0,
   "metadata": {
    "application/vnd.databricks.v1+cell": {
     "cellMetadata": {
      "byteLimit": 2048000,
      "implicitDf": true,
      "rowLimit": 10000
     },
     "inputWidgets": {},
     "nuid": "528a4e9a-df24-46a7-b24f-d061a345dc77",
     "showTitle": false,
     "tableResultSettingsMap": {},
     "title": ""
    }
   },
   "outputs": [],
   "source": [
    "%sql\n",
    "merge into carsales_catalog.gold.dim_date as tgt\n",
    "using (select distinct Day,Month,Year,Date_of_Sale from silver_view order by Date_of_Sale) as src \n",
    "on tgt.Date_of_Sale=src.Date_of_Sale\n",
    "when not matched then\n",
    "insert(Day,Month,Year,Date_of_Sale) values (src.Day,src.Month,src.Year,src.Date_of_Sale)"
   ]
  },
  {
   "cell_type": "markdown",
   "metadata": {
    "application/vnd.databricks.v1+cell": {
     "cellMetadata": {},
     "inputWidgets": {},
     "nuid": "de0deb1d-5a6a-483c-8835-c480f60a8062",
     "showTitle": false,
     "tableResultSettingsMap": {},
     "title": ""
    }
   },
   "source": [
    "##Creating fact_sales "
   ]
  },
  {
   "cell_type": "code",
   "execution_count": 0,
   "metadata": {
    "application/vnd.databricks.v1+cell": {
     "cellMetadata": {
      "byteLimit": 2048000,
      "rowLimit": 10000
     },
     "inputWidgets": {},
     "nuid": "b0fc6ad4-8bc8-48d2-813a-fde1bddd7fcf",
     "showTitle": false,
     "tableResultSettingsMap": {},
     "title": ""
    }
   },
   "outputs": [],
   "source": [
    "if load == 'F':\n",
    "  spark.sql('''create table carsales_catalog.gold.fact_sales (\n",
    "    Sale_id bigint generated always as identity primary key not null,\n",
    "    Model_key bigint,\n",
    "    Dealer_key bigint,\n",
    "    Branch_key bigint,\n",
    "    Date_key bigint,\n",
    "    Revenue integer,\n",
    "    Units_Sold integer,\n",
    "    constraint fk_model foreign key (Model_key) references carsales_catalog.gold.dim_model(Model_key),\n",
    "    constraint fk_dealer foreign key (Dealer_key) references carsales_catalog.gold.dim_dealer(Dealer_key),\n",
    "    constraint fk_branch foreign key (Branch_key) references carsales_catalog.gold.dim_branch(Branch_key),\n",
    "    constraint fk_date foreign key (Date_key) references carsales_catalog.gold.dim_date(Date_key)\n",
    "    )\n",
    "    using delta\n",
    "    location 'abfss://gold@carsalesdeltalake.dfs.core.windows.net/fact_carsales'\n",
    "  ''')\n",
    "\n"
   ]
  },
  {
   "cell_type": "markdown",
   "metadata": {
    "application/vnd.databricks.v1+cell": {
     "cellMetadata": {},
     "inputWidgets": {},
     "nuid": "3967ca1e-7251-478e-bf1c-0e7dcb1488e6",
     "showTitle": false,
     "tableResultSettingsMap": {},
     "title": ""
    }
   },
   "source": [
    "##Loading fact table"
   ]
  },
  {
   "cell_type": "code",
   "execution_count": 0,
   "metadata": {
    "application/vnd.databricks.v1+cell": {
     "cellMetadata": {
      "byteLimit": 2048000,
      "implicitDf": true,
      "rowLimit": 10000
     },
     "inputWidgets": {},
     "nuid": "1565a5fe-bc1f-4bbf-82ee-7878c250b869",
     "showTitle": false,
     "tableResultSettingsMap": {},
     "title": ""
    }
   },
   "outputs": [],
   "source": [
    "%sql\n",
    "insert overwrite carsales_catalog.gold.fact_sales(Revenue, Units_Sold, Model_key, Branch_key, Dealer_key, Date_key)\n",
    "     select src.Revenue,\n",
    "       src.Units_Sold,\n",
    "       dim_model.Model_key,\n",
    "       dim_branch.Branch_key,\n",
    "       dim_dealer.Dealer_key,\n",
    "       dim_date.Date_key\n",
    "       from silver_view as src\n",
    "       left outer join carsales_catalog.gold.dim_model on src.Model_ID=dim_model.Model_ID\n",
    "       left outer join carsales_catalog.gold.dim_branch on src.Branch_ID=dim_branch.Branch_ID\n",
    "       left outer join carsales_catalog.gold.dim_dealer on src.Dealer_ID=dim_dealer.Dealer_ID\n",
    "       left outer join carsales_catalog.gold.dim_date on src.Date_of_Sale=dim_date.Date_of_Sale ;\n"
   ]
  },
  {
   "cell_type": "code",
   "execution_count": 0,
   "metadata": {
    "application/vnd.databricks.v1+cell": {
     "cellMetadata": {
      "byteLimit": 2048000,
      "implicitDf": true,
      "rowLimit": 10000
     },
     "inputWidgets": {},
     "nuid": "b3bd3ec8-323d-4a26-ada1-4d02ad5deb3e",
     "showTitle": false,
     "tableResultSettingsMap": {},
     "title": ""
    }
   },
   "outputs": [],
   "source": [
    "%sql\n",
    "select * from carsales_catalog.gold.fact_sales;"
   ]
  },
  {
   "cell_type": "markdown",
   "metadata": {
    "application/vnd.databricks.v1+cell": {
     "cellMetadata": {},
     "inputWidgets": {},
     "nuid": "cdedaed5-a205-47ce-a8a4-b68290f61cc7",
     "showTitle": false,
     "tableResultSettingsMap": {},
     "title": ""
    }
   },
   "source": []
  }
 ],
 "metadata": {
  "application/vnd.databricks.v1+notebook": {
   "computePreferences": null,
   "dashboards": [],
   "environmentMetadata": {
    "base_environment": "",
    "environment_version": "2"
   },
   "language": "python",
   "notebookMetadata": {
    "mostRecentlyExecutedCommandWithImplicitDF": {
     "commandId": 7953020426172286,
     "dataframes": [
      "_sqldf"
     ]
    },
    "pythonIndentUnit": 4
   },
   "notebookName": "star_schema",
   "widgets": {
    "load_type": {
     "currentValue": "F",
     "nuid": "4912244c-6860-41bd-bf18-2d41915f814e",
     "typedWidgetInfo": {
      "autoCreated": false,
      "defaultValue": "F",
      "label": null,
      "name": "load_type",
      "options": {
       "widgetDisplayType": "Text",
       "validationRegex": null
      },
      "parameterDataType": "String"
     },
     "widgetInfo": {
      "widgetType": "text",
      "defaultValue": "F",
      "label": null,
      "name": "load_type",
      "options": {
       "widgetType": "text",
       "autoCreated": null,
       "validationRegex": null
      }
     }
    }
   }
  },
  "language_info": {
   "name": "python"
  }
 },
 "nbformat": 4,
 "nbformat_minor": 0
}
